{
 "cells": [
  {
   "cell_type": "markdown",
   "id": "c250cb25",
   "metadata": {},
   "source": [
    "# Numerical Cases of RSOME in Python\n",
    "\n",
    "This document provides the code for numerical case studies presented in the paper *RSOME in Python: An Open-Source Package for Robust Stochastic Optimization Made Easy* and its online supplement. RSOME is an open-source Python package for modeling generic optimization problems in the presence of uncertainty. Resources of RSOME are listed as follows:\n",
    "- Website: [RSOME in Python](https://xiongpengnus.github.io/rsome/)\n",
    "- GitHub Repository: [rsome](https://github.com/XiongPengNUS/rsome)\n",
    "- Paper: [RSOME in Python](http://www.optimization-online.org/DB_HTML/2021/06/8443.html#:~:text=Optimization%20Online%20%2D%20RSOME%20in%20Python,Robust%20Stochastic%20Optimization%20Made%20Easy&text=Abstract%3A%20We%20develop%20a%20Python,and%20distributionally%20robust%20optimization%20problems.)\n",
    "\n",
    "## Install RSOME and the ECOS Solver\n",
    "The RSOME package is available on [PyPI](https://pypi.org/project/rsome/) and can be installed using the `pip` command. "
   ]
  },
  {
   "cell_type": "code",
   "execution_count": 1,
   "id": "0b388788",
   "metadata": {},
   "outputs": [
    {
     "name": "stdout",
     "output_type": "stream",
     "text": [
      "Collecting rsome\n",
      "  Downloading rsome-1.0.3-py3-none-any.whl (55 kB)\n",
      "\u001b[2K     \u001b[90m━━━━━━━━━━━━━━━━━━━━━━━━━━━━━━━━━━━━━━━\u001b[0m \u001b[32m55.7/55.7 KB\u001b[0m \u001b[31m179.5 kB/s\u001b[0m eta \u001b[36m0:00:00\u001b[0ma \u001b[36m0:00:01\u001b[0m\n",
      "\u001b[?25hRequirement already satisfied: scipy>=1.2.1 in /Library/Frameworks/Python.framework/Versions/3.9/lib/python3.9/site-packages (from rsome) (1.8.0)\n",
      "Requirement already satisfied: pandas>=0.25.0 in /Library/Frameworks/Python.framework/Versions/3.9/lib/python3.9/site-packages (from rsome) (1.4.2)\n",
      "Requirement already satisfied: numpy>=1.20.0 in /Library/Frameworks/Python.framework/Versions/3.9/lib/python3.9/site-packages (from rsome) (1.22.3)\n",
      "Requirement already satisfied: pytz>=2020.1 in /Library/Frameworks/Python.framework/Versions/3.9/lib/python3.9/site-packages (from pandas>=0.25.0->rsome) (2022.1)\n",
      "Requirement already satisfied: python-dateutil>=2.8.1 in /Library/Frameworks/Python.framework/Versions/3.9/lib/python3.9/site-packages (from pandas>=0.25.0->rsome) (2.8.2)\n",
      "Requirement already satisfied: six>=1.5 in /Library/Frameworks/Python.framework/Versions/3.9/lib/python3.9/site-packages (from python-dateutil>=2.8.1->pandas>=0.25.0->rsome) (1.16.0)\n",
      "Installing collected packages: rsome\n",
      "Successfully installed rsome-1.0.3\n"
     ]
    }
   ],
   "source": [
    "!pip install rsome --user"
   ]
  },
  {
   "cell_type": "markdown",
   "id": "eb767907",
   "metadata": {},
   "source": [
    "In this document, we will use the open-source solver [ECOS](https://github.com/embotech/ecos) to solve the the formulated robust models. "
   ]
  },
  {
   "cell_type": "code",
   "execution_count": 2,
   "id": "54d34f26",
   "metadata": {},
   "outputs": [
    {
     "name": "stdout",
     "output_type": "stream",
     "text": [
      "Collecting ecos\n",
      "  Downloading ecos-2.0.10-cp39-cp39-macosx_10_9_x86_64.whl (88 kB)\n",
      "\u001b[2K     \u001b[90m━━━━━━━━━━━━━━━━━━━━━━━━━━━━━━━━━━━━━━━\u001b[0m \u001b[32m89.0/89.0 KB\u001b[0m \u001b[31m203.9 kB/s\u001b[0m eta \u001b[36m0:00:00\u001b[0ma \u001b[36m0:00:01\u001b[0m\n",
      "\u001b[?25hRequirement already satisfied: scipy>=0.9 in /Library/Frameworks/Python.framework/Versions/3.9/lib/python3.9/site-packages (from ecos) (1.8.0)\n",
      "Requirement already satisfied: numpy>=1.6 in /Library/Frameworks/Python.framework/Versions/3.9/lib/python3.9/site-packages (from ecos) (1.22.3)\n",
      "Installing collected packages: ecos\n",
      "Successfully installed ecos-2.0.10\n"
     ]
    }
   ],
   "source": [
    "!pip install ecos"
   ]
  },
  {
   "cell_type": "markdown",
   "id": "38f99c6c",
   "metadata": {},
   "source": [
    "## Applications in Vehicle Pre-Allocation\n",
    "\n",
    "### Problem statement\n",
    "\n",
    "Here, we solve a vehicle pre-allocation problem (which originates from [Hao et al. 2020](https://papers.ssrn.com/sol3/papers.cfm?abstract_id=3509026)) to demonstrate the syntax and basic features of RSOME. Consider an urban area with $I$ supply nodes and $J$ demand nodes. The operator, before the random demand $\\tilde{\\boldsymbol{d}}=(\\tilde{d}_j)_{j\\in[J]}$ realizes, allocates $x_{ij}$ vehicles from supply node $i\\in[I]$ (which has a number $q_i$ of idle vehicles) to demand node $j\\in[J]$ at a unit cost $c_{ij}$. After demand realization, the operator collects $\\sum_{j\\in[J]}r_j\\min\\left\\{\\sum_{i\\in[I]}x_{ij}d_j\\right\\}$ revenue. Parameters of the vehicle pre-allocation problem are defined below."
   ]
  },
  {
   "cell_type": "code",
   "execution_count": 1,
   "id": "bb155a44",
   "metadata": {},
   "outputs": [],
   "source": [
    "import numpy as np\n",
    "\n",
    "I = 1                                                 # number of supply nodes\n",
    "J = 10                                                # number of demand nodes\n",
    "r = np.array([4.8, 4.692, 3.732, 4.788, 4.656, \n",
    "              4.896, 4.836, 4.968, 4.896, 4.584])     # revenue coefficients\n",
    "c = 3 * np.ones((I, J))                               # cost coefficients \n",
    "q = 400 * np.ones(I)                                  # maximum supply of vehicles"
   ]
  },
  {
   "cell_type": "markdown",
   "id": "de826e68",
   "metadata": {},
   "source": [
    "The historical data of the random demand $\\tilde{\\boldsymbol{d}}$ for totally $J=10$ regions, together with the side information, in terms of the precipitation records, are provided by the following dataset."
   ]
  },
  {
   "cell_type": "code",
   "execution_count": 2,
   "id": "451a8a35",
   "metadata": {},
   "outputs": [
    {
     "data": {
      "text/html": [
       "<div>\n",
       "<style scoped>\n",
       "    .dataframe tbody tr th:only-of-type {\n",
       "        vertical-align: middle;\n",
       "    }\n",
       "\n",
       "    .dataframe tbody tr th {\n",
       "        vertical-align: top;\n",
       "    }\n",
       "\n",
       "    .dataframe thead th {\n",
       "        text-align: right;\n",
       "    }\n",
       "</style>\n",
       "<table border=\"1\" class=\"dataframe\">\n",
       "  <thead>\n",
       "    <tr style=\"text-align: right;\">\n",
       "      <th></th>\n",
       "      <th>Region1</th>\n",
       "      <th>Region2</th>\n",
       "      <th>Region3</th>\n",
       "      <th>Region4</th>\n",
       "      <th>...</th>\n",
       "      <th>S108_Rain_Amount</th>\n",
       "      <th>S78_Rain_Amount</th>\n",
       "      <th>S79_Rain_Amount</th>\n",
       "      <th>S88_Rain_Amount</th>\n",
       "    </tr>\n",
       "  </thead>\n",
       "  <tbody>\n",
       "    <tr>\n",
       "      <th>0</th>\n",
       "      <td>0.000000</td>\n",
       "      <td>0.000000</td>\n",
       "      <td>0.000000</td>\n",
       "      <td>0.000000</td>\n",
       "      <td>...</td>\n",
       "      <td>0.0</td>\n",
       "      <td>0.0</td>\n",
       "      <td>0.1</td>\n",
       "      <td>0.0</td>\n",
       "    </tr>\n",
       "    <tr>\n",
       "      <th>1</th>\n",
       "      <td>5.169759</td>\n",
       "      <td>0.000000</td>\n",
       "      <td>2.990986</td>\n",
       "      <td>0.000000</td>\n",
       "      <td>...</td>\n",
       "      <td>0.1</td>\n",
       "      <td>0.0</td>\n",
       "      <td>0.0</td>\n",
       "      <td>0.0</td>\n",
       "    </tr>\n",
       "    <tr>\n",
       "      <th>2</th>\n",
       "      <td>0.000000</td>\n",
       "      <td>0.000000</td>\n",
       "      <td>0.000000</td>\n",
       "      <td>0.000000</td>\n",
       "      <td>...</td>\n",
       "      <td>0.7</td>\n",
       "      <td>0.4</td>\n",
       "      <td>0.4</td>\n",
       "      <td>0.5</td>\n",
       "    </tr>\n",
       "    <tr>\n",
       "      <th>...</th>\n",
       "      <td>...</td>\n",
       "      <td>...</td>\n",
       "      <td>...</td>\n",
       "      <td>...</td>\n",
       "      <td>...</td>\n",
       "      <td>...</td>\n",
       "      <td>...</td>\n",
       "      <td>...</td>\n",
       "      <td>...</td>\n",
       "    </tr>\n",
       "    <tr>\n",
       "      <th>74</th>\n",
       "      <td>2.649001</td>\n",
       "      <td>6.784071</td>\n",
       "      <td>0.000000</td>\n",
       "      <td>5.542861</td>\n",
       "      <td>...</td>\n",
       "      <td>0.0</td>\n",
       "      <td>0.0</td>\n",
       "      <td>0.0</td>\n",
       "      <td>0.0</td>\n",
       "    </tr>\n",
       "    <tr>\n",
       "      <th>75</th>\n",
       "      <td>21.418156</td>\n",
       "      <td>19.711290</td>\n",
       "      <td>26.874735</td>\n",
       "      <td>43.991484</td>\n",
       "      <td>...</td>\n",
       "      <td>15.6</td>\n",
       "      <td>4.6</td>\n",
       "      <td>4.3</td>\n",
       "      <td>4.4</td>\n",
       "    </tr>\n",
       "    <tr>\n",
       "      <th>76</th>\n",
       "      <td>0.000000</td>\n",
       "      <td>4.535048</td>\n",
       "      <td>4.168807</td>\n",
       "      <td>0.000000</td>\n",
       "      <td>...</td>\n",
       "      <td>0.0</td>\n",
       "      <td>0.0</td>\n",
       "      <td>0.0</td>\n",
       "      <td>0.0</td>\n",
       "    </tr>\n",
       "  </tbody>\n",
       "</table>\n",
       "<p>77 rows × 16 columns</p>\n",
       "</div>"
      ],
      "text/plain": [
       "      Region1    Region2    Region3    Region4  ...  S108_Rain_Amount  \\\n",
       "0    0.000000   0.000000   0.000000   0.000000  ...               0.0   \n",
       "1    5.169759   0.000000   2.990986   0.000000  ...               0.1   \n",
       "2    0.000000   0.000000   0.000000   0.000000  ...               0.7   \n",
       "..        ...        ...        ...        ...  ...               ...   \n",
       "74   2.649001   6.784071   0.000000   5.542861  ...               0.0   \n",
       "75  21.418156  19.711290  26.874735  43.991484  ...              15.6   \n",
       "76   0.000000   4.535048   4.168807   0.000000  ...               0.0   \n",
       "\n",
       "    S78_Rain_Amount  S79_Rain_Amount  S88_Rain_Amount  \n",
       "0               0.0              0.1              0.0  \n",
       "1               0.0              0.0              0.0  \n",
       "2               0.4              0.4              0.5  \n",
       "..              ...              ...              ...  \n",
       "74              0.0              0.0              0.0  \n",
       "75              4.6              4.3              4.4  \n",
       "76              0.0              0.0              0.0  \n",
       "\n",
       "[77 rows x 16 columns]"
      ]
     },
     "execution_count": 2,
     "metadata": {},
     "output_type": "execute_result"
    }
   ],
   "source": [
    "import pandas as pd\n",
    "pd.options.display.max_rows = 7\n",
    "pd.options.display.max_columns = 8\n",
    "\n",
    "url = 'https://xiongpengnus.github.io/rsome/taxi_rain.csv'\n",
    "data = pd.read_csv(url)\n",
    "data"
   ]
  },
  {
   "cell_type": "code",
   "execution_count": 3,
   "id": "4acfd7ac",
   "metadata": {},
   "outputs": [
    {
     "data": {
      "text/html": [
       "<div>\n",
       "<style scoped>\n",
       "    .dataframe tbody tr th:only-of-type {\n",
       "        vertical-align: middle;\n",
       "    }\n",
       "\n",
       "    .dataframe tbody tr th {\n",
       "        vertical-align: top;\n",
       "    }\n",
       "\n",
       "    .dataframe thead th {\n",
       "        text-align: right;\n",
       "    }\n",
       "</style>\n",
       "<table border=\"1\" class=\"dataframe\">\n",
       "  <thead>\n",
       "    <tr style=\"text-align: right;\">\n",
       "      <th></th>\n",
       "      <th>Region1</th>\n",
       "      <th>Region2</th>\n",
       "      <th>Region3</th>\n",
       "      <th>Region4</th>\n",
       "      <th>...</th>\n",
       "      <th>Region7</th>\n",
       "      <th>Region8</th>\n",
       "      <th>Region9</th>\n",
       "      <th>Region10</th>\n",
       "    </tr>\n",
       "  </thead>\n",
       "  <tbody>\n",
       "    <tr>\n",
       "      <th>0</th>\n",
       "      <td>0.000000</td>\n",
       "      <td>0.000000</td>\n",
       "      <td>0.000000</td>\n",
       "      <td>0.000000</td>\n",
       "      <td>...</td>\n",
       "      <td>1.316626</td>\n",
       "      <td>0.770319</td>\n",
       "      <td>0.000000</td>\n",
       "      <td>2.408292</td>\n",
       "    </tr>\n",
       "    <tr>\n",
       "      <th>1</th>\n",
       "      <td>5.169759</td>\n",
       "      <td>0.000000</td>\n",
       "      <td>2.990986</td>\n",
       "      <td>0.000000</td>\n",
       "      <td>...</td>\n",
       "      <td>2.702401</td>\n",
       "      <td>4.682649</td>\n",
       "      <td>0.000000</td>\n",
       "      <td>8.641518</td>\n",
       "    </tr>\n",
       "    <tr>\n",
       "      <th>2</th>\n",
       "      <td>0.000000</td>\n",
       "      <td>0.000000</td>\n",
       "      <td>0.000000</td>\n",
       "      <td>0.000000</td>\n",
       "      <td>...</td>\n",
       "      <td>6.523627</td>\n",
       "      <td>3.707144</td>\n",
       "      <td>0.000000</td>\n",
       "      <td>3.232930</td>\n",
       "    </tr>\n",
       "    <tr>\n",
       "      <th>...</th>\n",
       "      <td>...</td>\n",
       "      <td>...</td>\n",
       "      <td>...</td>\n",
       "      <td>...</td>\n",
       "      <td>...</td>\n",
       "      <td>...</td>\n",
       "      <td>...</td>\n",
       "      <td>...</td>\n",
       "      <td>...</td>\n",
       "    </tr>\n",
       "    <tr>\n",
       "      <th>74</th>\n",
       "      <td>2.649001</td>\n",
       "      <td>6.784071</td>\n",
       "      <td>0.000000</td>\n",
       "      <td>5.542861</td>\n",
       "      <td>...</td>\n",
       "      <td>1.713845</td>\n",
       "      <td>0.000000</td>\n",
       "      <td>0.225335</td>\n",
       "      <td>1.851765</td>\n",
       "    </tr>\n",
       "    <tr>\n",
       "      <th>75</th>\n",
       "      <td>21.418156</td>\n",
       "      <td>19.711290</td>\n",
       "      <td>26.874735</td>\n",
       "      <td>43.991484</td>\n",
       "      <td>...</td>\n",
       "      <td>12.610632</td>\n",
       "      <td>38.532604</td>\n",
       "      <td>30.980223</td>\n",
       "      <td>18.556275</td>\n",
       "    </tr>\n",
       "    <tr>\n",
       "      <th>76</th>\n",
       "      <td>0.000000</td>\n",
       "      <td>4.535048</td>\n",
       "      <td>4.168807</td>\n",
       "      <td>0.000000</td>\n",
       "      <td>...</td>\n",
       "      <td>0.000000</td>\n",
       "      <td>4.535980</td>\n",
       "      <td>7.001034</td>\n",
       "      <td>0.000000</td>\n",
       "    </tr>\n",
       "  </tbody>\n",
       "</table>\n",
       "<p>77 rows × 10 columns</p>\n",
       "</div>"
      ],
      "text/plain": [
       "      Region1    Region2    Region3    Region4  ...    Region7    Region8  \\\n",
       "0    0.000000   0.000000   0.000000   0.000000  ...   1.316626   0.770319   \n",
       "1    5.169759   0.000000   2.990986   0.000000  ...   2.702401   4.682649   \n",
       "2    0.000000   0.000000   0.000000   0.000000  ...   6.523627   3.707144   \n",
       "..        ...        ...        ...        ...  ...        ...        ...   \n",
       "74   2.649001   6.784071   0.000000   5.542861  ...   1.713845   0.000000   \n",
       "75  21.418156  19.711290  26.874735  43.991484  ...  12.610632  38.532604   \n",
       "76   0.000000   4.535048   4.168807   0.000000  ...   0.000000   4.535980   \n",
       "\n",
       "      Region9   Region10  \n",
       "0    0.000000   2.408292  \n",
       "1    0.000000   8.641518  \n",
       "2    0.000000   3.232930  \n",
       "..        ...        ...  \n",
       "74   0.225335   1.851765  \n",
       "75  30.980223  18.556275  \n",
       "76   7.001034   0.000000  \n",
       "\n",
       "[77 rows x 10 columns]"
      ]
     },
     "execution_count": 3,
     "metadata": {},
     "output_type": "execute_result"
    }
   ],
   "source": [
    "demand = data.loc[:, 'Region1':'Region10']\n",
    "demand"
   ]
  },
  {
   "cell_type": "code",
   "execution_count": 4,
   "id": "62eb8f86",
   "metadata": {
    "scrolled": true
   },
   "outputs": [
    {
     "data": {
      "text/html": [
       "<div>\n",
       "<style scoped>\n",
       "    .dataframe tbody tr th:only-of-type {\n",
       "        vertical-align: middle;\n",
       "    }\n",
       "\n",
       "    .dataframe tbody tr th {\n",
       "        vertical-align: top;\n",
       "    }\n",
       "\n",
       "    .dataframe thead th {\n",
       "        text-align: right;\n",
       "    }\n",
       "</style>\n",
       "<table border=\"1\" class=\"dataframe\">\n",
       "  <thead>\n",
       "    <tr style=\"text-align: right;\">\n",
       "      <th></th>\n",
       "      <th>S08_Rain_Amount</th>\n",
       "      <th>S107_Rain_Amount</th>\n",
       "      <th>S108_Rain_Amount</th>\n",
       "      <th>S78_Rain_Amount</th>\n",
       "      <th>S79_Rain_Amount</th>\n",
       "      <th>S88_Rain_Amount</th>\n",
       "    </tr>\n",
       "  </thead>\n",
       "  <tbody>\n",
       "    <tr>\n",
       "      <th>0</th>\n",
       "      <td>0.1</td>\n",
       "      <td>0.0</td>\n",
       "      <td>0.0</td>\n",
       "      <td>0.0</td>\n",
       "      <td>0.1</td>\n",
       "      <td>0.0</td>\n",
       "    </tr>\n",
       "    <tr>\n",
       "      <th>1</th>\n",
       "      <td>0.0</td>\n",
       "      <td>0.8</td>\n",
       "      <td>0.1</td>\n",
       "      <td>0.0</td>\n",
       "      <td>0.0</td>\n",
       "      <td>0.0</td>\n",
       "    </tr>\n",
       "    <tr>\n",
       "      <th>2</th>\n",
       "      <td>0.6</td>\n",
       "      <td>0.6</td>\n",
       "      <td>0.7</td>\n",
       "      <td>0.4</td>\n",
       "      <td>0.4</td>\n",
       "      <td>0.5</td>\n",
       "    </tr>\n",
       "    <tr>\n",
       "      <th>...</th>\n",
       "      <td>...</td>\n",
       "      <td>...</td>\n",
       "      <td>...</td>\n",
       "      <td>...</td>\n",
       "      <td>...</td>\n",
       "      <td>...</td>\n",
       "    </tr>\n",
       "    <tr>\n",
       "      <th>74</th>\n",
       "      <td>0.0</td>\n",
       "      <td>0.0</td>\n",
       "      <td>0.0</td>\n",
       "      <td>0.0</td>\n",
       "      <td>0.0</td>\n",
       "      <td>0.0</td>\n",
       "    </tr>\n",
       "    <tr>\n",
       "      <th>75</th>\n",
       "      <td>1.3</td>\n",
       "      <td>0.3</td>\n",
       "      <td>15.6</td>\n",
       "      <td>4.6</td>\n",
       "      <td>4.3</td>\n",
       "      <td>4.4</td>\n",
       "    </tr>\n",
       "    <tr>\n",
       "      <th>76</th>\n",
       "      <td>0.0</td>\n",
       "      <td>0.0</td>\n",
       "      <td>0.0</td>\n",
       "      <td>0.0</td>\n",
       "      <td>0.0</td>\n",
       "      <td>0.0</td>\n",
       "    </tr>\n",
       "  </tbody>\n",
       "</table>\n",
       "<p>77 rows × 6 columns</p>\n",
       "</div>"
      ],
      "text/plain": [
       "    S08_Rain_Amount  S107_Rain_Amount  S108_Rain_Amount  S78_Rain_Amount  \\\n",
       "0               0.1               0.0               0.0              0.0   \n",
       "1               0.0               0.8               0.1              0.0   \n",
       "2               0.6               0.6               0.7              0.4   \n",
       "..              ...               ...               ...              ...   \n",
       "74              0.0               0.0               0.0              0.0   \n",
       "75              1.3               0.3              15.6              4.6   \n",
       "76              0.0               0.0               0.0              0.0   \n",
       "\n",
       "    S79_Rain_Amount  S88_Rain_Amount  \n",
       "0               0.1              0.0  \n",
       "1               0.0              0.0  \n",
       "2               0.4              0.5  \n",
       "..              ...              ...  \n",
       "74              0.0              0.0  \n",
       "75              4.3              4.4  \n",
       "76              0.0              0.0  \n",
       "\n",
       "[77 rows x 6 columns]"
      ]
     },
     "execution_count": 4,
     "metadata": {},
     "output_type": "execute_result"
    }
   ],
   "source": [
    "precip = data.loc[:, 'S08_Rain_Amount': 'S88_Rain_Amount']\n",
    "precip"
   ]
  },
  {
   "cell_type": "markdown",
   "id": "14f4bb14",
   "metadata": {},
   "source": [
    "Notice that in rainy and not rainy days, the demand in each region is quite different, as shown by the figure below."
   ]
  },
  {
   "cell_type": "code",
   "execution_count": 5,
   "id": "b018db1b",
   "metadata": {},
   "outputs": [
    {
     "data": {
      "image/png": "[encoded data removed]",
      "text/plain": [
       "<Figure size 720x360 with 1 Axes>"
      ]
     },
     "metadata": {
      "needs_background": "light"
     },
     "output_type": "display_data"
    }
   ],
   "source": [
    "import matplotlib.pyplot as plt\n",
    "\n",
    "is_rainy = precip.sum(axis=1) > 0\n",
    "demand_rainy = demand.loc[is_rainy].mean()\n",
    "demand_not_rainy = demand.loc[~is_rainy].mean()\n",
    "num_region = len(demand_rainy)\n",
    "\n",
    "width=0.35\n",
    "plt.figure(figsize=(10, 5))\n",
    "plt.bar(np.arange(num_region)-0.5*width, demand_not_rainy, \n",
    "        width=width, color='r', alpha=0.6, label='Not Rainy')\n",
    "plt.bar(np.arange(num_region)+0.5*width, demand_rainy, \n",
    "        width=width, color='b', alpha=0.6, label='Rainy')\n",
    "plt.legend(fontsize=13)\n",
    "plt.xticks(np.arange(num_region), demand.columns, fontsize=11)\n",
    "plt.ylabel('Average demand', fontsize=13)\n",
    "plt.show()"
   ]
  },
  {
   "cell_type": "markdown",
   "id": "ef1824ad",
   "metadata": {},
   "source": [
    "### The Robust Model (Section 2.1 of the Online Supplement)\n",
    "\n",
    "The robust model is given by\n",
    "\n",
    "$$\n",
    "\\begin{align}\n",
    "\\min_{\\boldsymbol{x}, \\boldsymbol{y}}~&\\max_{\\boldsymbol{d}\\in\\mathcal{Z}}\\left\\{\\sum_{i\\in[I]}\\sum_{j\\in[J]}(c_{ij}-r_j)x_{ij}+\\sum_{j\\in[J]}r_jy_j(\\boldsymbol{d})\n",
    "\\right\\} &&\\\\\n",
    "\\text{s.t.}~&y_j(\\boldsymbol{d}) \\geq \\sum_{i\\in[I]}x_{ij}-d_j && \\forall \\boldsymbol{d}\\in\\mathcal{Z}, j\\in[J] \\\\\n",
    "&y_j(\\boldsymbol{d}) \\geq 0 && \\forall \\boldsymbol{d}\\in\\mathcal{Z}, j\\in[J]\\\\\n",
    "&y_j \\in \\mathcal{L}([J]) &&\\forall j\\in[J]\\\\\n",
    "&\\sum_{j\\in[J]}x_{ij}\\leq q_i && \\forall i \\in [I]\\\\\n",
    "&x_{ij} \\geq 0 && \\forall i \\in [I], j\\in [J],\n",
    "\\end{align}\n",
    "$$\n",
    "where the wait-and-see decision $\\boldsymbol{y}$ is approximated by a linear decision rule $\\mathcal{L}([J])$, implying that each $y_j$ affinely depends on the demand realization $\\boldsymbol{d}$. The uncertainty set $\\mathcal{Z}$, expressed as\n",
    "$$\n",
    "\\mathcal{Z}=\\left\\{\\boldsymbol{d} \\left| \\underline{\\boldsymbol{d}}\\leq \\boldsymbol{d}\\leq \\overline{\\boldsymbol{d}}\\right.\\right\\},\n",
    "$$\n",
    "is a box defined by the lower bound $\\underline{\\boldsymbol{d}}$ and upper bound $\\overline{\\boldsymbol{d}}$ of historical demands."
   ]
  },
  {
   "cell_type": "code",
   "execution_count": 6,
   "id": "e2d31f4b",
   "metadata": {},
   "outputs": [],
   "source": [
    "d_ub = demand.max().values                  # upper bound of demand\n",
    "d_lb = demand.min().values                  # lower bound of demand"
   ]
  },
  {
   "cell_type": "markdown",
   "id": "e590012b",
   "metadata": {},
   "source": [
    "The robust model can be then implemented by the following code segment."
   ]
  },
  {
   "cell_type": "code",
   "execution_count": 7,
   "id": "88d60439",
   "metadata": {
    "scrolled": true
   },
   "outputs": [
    {
     "name": "stdout",
     "output_type": "stream",
     "text": [
      "Being solved by ECOS...\n",
      "Solution status: Optimal solution found\n",
      "Running time: 0.0034s\n"
     ]
    }
   ],
   "source": [
    "from rsome import ro                        # import the ro module\n",
    "from rsome import eco_solver as eco         # import the Gurobi interface\n",
    "\n",
    "model = ro.Model()                          # create an RO model\n",
    "\n",
    "d = model.rvar(J)                           # create an array of random variables\n",
    "zset = (d <= d_ub, d >= d_lb)               # define a box uncertainty set\n",
    "\n",
    "x = model.dvar((I, J))                      # define here-and-now decisions as array x\n",
    "y = model.ldr(J)                            # define linear decision rules as array y\n",
    "y.adapt(d)                                  # y affinely adapts to d\n",
    "\n",
    "model.minmax(((c-r)*x).sum() + r@y, zset)   # minimize the worst-case objective \n",
    "model.st(y >= x.sum(axis=0) - d, y >= 0)    # robust constraints\n",
    "model.st(x.sum(axis=1) <= q, x >= 0)        # deterministic constraints\n",
    "\n",
    "model.solve(eco)                            # solve the model with Gurobi"
   ]
  },
  {
   "cell_type": "markdown",
   "id": "25586c73",
   "metadata": {},
   "source": [
    "The minimum objective value and the optimal solution can be retrieved using the `get()` method."
   ]
  },
  {
   "cell_type": "code",
   "execution_count": 8,
   "id": "2d25ba46",
   "metadata": {
    "scrolled": false
   },
   "outputs": [
    {
     "data": {
      "text/plain": [
       "-75.10768250566842"
      ]
     },
     "execution_count": 8,
     "metadata": {},
     "output_type": "execute_result"
    }
   ],
   "source": [
    "model.get()"
   ]
  },
  {
   "cell_type": "code",
   "execution_count": 9,
   "id": "5fd16ca9",
   "metadata": {
    "scrolled": true
   },
   "outputs": [
    {
     "data": {
      "text/plain": [
       "array([[ 0.     ,  0.     ,  0.     ,  0.     ,  0.     , 39.61376,\n",
       "         0.     ,  0.     ,  0.     ,  0.     ]])"
      ]
     },
     "execution_count": 9,
     "metadata": {},
     "output_type": "execute_result"
    }
   ],
   "source": [
    "x1 = x.get()\n",
    "x1.round(5)"
   ]
  },
  {
   "cell_type": "markdown",
   "id": "4067a60f",
   "metadata": {},
   "source": [
    "Information on the deterministic counterpart of the robust model as a linear program is presented below."
   ]
  },
  {
   "cell_type": "code",
   "execution_count": 10,
   "id": "d73f6196",
   "metadata": {},
   "outputs": [
    {
     "data": {
      "text/plain": [
       "Second order cone program object:\n",
       "=============================================\n",
       "Number of variables:          373\n",
       "Continuous/binaries/integers: 373/0/0\n",
       "---------------------------------------------\n",
       "Number of linear constraints: 232\n",
       "Inequalities/equalities:      211/21\n",
       "Number of coefficients:       823\n",
       "---------------------------------------------\n",
       "Number of SOC constraints:    0"
      ]
     },
     "execution_count": 10,
     "metadata": {},
     "output_type": "execute_result"
    }
   ],
   "source": [
    "model.do_math()"
   ]
  },
  {
   "cell_type": "markdown",
   "id": "88429a29",
   "metadata": {},
   "source": [
    "### The Sample Robust Model Using the `ro` Framework (Section 2.2 of the Online Supplement)\n",
    "\n",
    "The sample robust model presented is a data-driven approach that exploits the historical data of the random demand, denoted by $\\left\\{\\hat{\\boldsymbol{d}}_1, \\hat{\\boldsymbol{d}}_2, ..., \\hat{\\boldsymbol{d}}_S\\right\\}$, and are defined as `dhat` in the following code cell."
   ]
  },
  {
   "cell_type": "code",
   "execution_count": 11,
   "id": "c53d545f",
   "metadata": {},
   "outputs": [],
   "source": [
    "dhat = demand.values                                    # sample demand as an array\n",
    "S = dhat.shape[0]                                       # sample size of the dataset"
   ]
  },
  {
   "cell_type": "markdown",
   "id": "add396ec",
   "metadata": {},
   "source": [
    "Here, each sample record $\\hat{\\boldsymbol{d}}_s$ is recognized as a scenario, and an uncertainty set $\\mathcal{Z}_s=\\left\\{\\left. \\boldsymbol{d} \\in [\\underline{\\boldsymbol{d}}, \\overline{\\boldsymbol{d}}]~\\right|~\\|\\boldsymbol{d}-\\hat{\\boldsymbol{d}}_s\\|\\leq \\epsilon\\right\\}$ is constructed around $\\hat{\\boldsymbol{d}}_s$ as an $\\epsilon$-neighborhood defined by a general norm $\\|\\cdot\\|$, and the robust sample model for the vehicle pre-allocation problem is formulated as below.\n",
    "\n",
    "$$\n",
    "\\begin{align}\n",
    "\\min_{\\boldsymbol{x}, \\boldsymbol{y}}~&\\max_{\\boldsymbol{d}\\in\\mathcal{Z}}\\left\\{\\sum_{i\\in[I]}\\sum_{j\\in[J]}(c_{ij}-r_j)x_{ij}+\\frac{1}{S}\\sum_{s=1}^Sa_s\n",
    "\\right\\} &&\\\\\n",
    "\\text{s.t.}~&a_s \\geq \\sum_{j\\in[J]}r_jy_{sj}(\\boldsymbol{d}) && \\forall \\boldsymbol{d}\\in\\mathcal{Z}_s, s\\in[S] \\\\\n",
    "&y_{sj}(\\boldsymbol{d}) \\geq \\sum_{i\\in[I]}x_{ij}-d_j && \\forall \\boldsymbol{d}\\in\\mathcal{Z}_s, s\\in[S], j\\in[J] \\\\\n",
    "&y_{sj}(\\boldsymbol{d}) \\geq 0 && \\forall \\boldsymbol{d}\\in\\mathcal{Z}_s, s\\in[S], j\\in[J]\\\\\n",
    "&y_{sj} \\in \\mathcal{L}([J]) &&\\forall s\\in[S], j\\in[J]\\\\\n",
    "&\\sum_{j\\in[J]}x_{ij}\\leq q_i && \\forall i \\in [I]\\\\\n",
    "&x_{ij} \\geq 0 && \\forall i \\in [I], j\\in [J].\n",
    "\\end{align}\n",
    "$$\n",
    "\n",
    "In the problem above, $\\boldsymbol{a}\\in\\mathbb{R}^S$ is an intermediate variable representing the worst-case recourse cost in each scenario $s$. The wait-and-see decision $\\boldsymbol{y}$ is approximated by a two-dimensional linear decision rule $(y_{sj}(\\boldsymbol{y}))_{s\\in[S],j\\in[J]}$, which implies different decision rule coefficients for different scenarios, thus the name multiple-policy approximation.\n",
    "\n",
    "Such a sample robust model (assuming a Euclidean norm with the radius to be $\\epsilon=0.25$ around each demand record $\\hat{\\boldsymbol{d}}_s$) is implemented as shown in the following code segment."
   ]
  },
  {
   "cell_type": "code",
   "execution_count": 12,
   "id": "6d36d2dc",
   "metadata": {
    "scrolled": true
   },
   "outputs": [
    {
     "name": "stdout",
     "output_type": "stream",
     "text": [
      "Being solved by ECOS...\n",
      "Solution status: Optimal solution found\n",
      "Running time: 0.9871s\n"
     ]
    }
   ],
   "source": [
    "from rsome import ro                                    # import the ro module\n",
    "from rsome import norm                                  # import the norm function\n",
    "from rsome import eco_solver as eco                     # import the Gurobi interface\n",
    "\n",
    "epsilon = 0.25                                          # parameter of robustness\n",
    "model = ro.Model()                                      # create an RO model\n",
    "\n",
    "d = model.rvar(J)                                       # random variable d\n",
    "a = model.dvar(S)                                       # variable as the recourse cost\n",
    "x = model.dvar((I, J))                                  # here-and-now decision x\n",
    "y = model.ldr((S, J))                                   # linear decision rule y\n",
    "y.adapt(d)                                              # y affinely adapts to d\n",
    "\n",
    "model.min(((c-r)*x).sum() + (1/S)*a.sum())              # minimize the objective\n",
    "for s in range(S):\n",
    "    zset = (d <= d_ub, d >= d_lb, \n",
    "            norm(d - dhat[s]) <= epsilon)               # sample-wise uncertainty set\n",
    "    model.st((a[s] >= r@y[s]).forall(zset))             # constraints for the sth sample\n",
    "    model.st((y[s] >= x.sum(axis=0) - d).forall(zset))  # constraints for the sth sample\n",
    "    model.st((y[s] >= 0).forall(zset))                  # constraints for the sth sample\n",
    "model.st(x.sum(axis=1) <= q, x >= 0)                    # constraints\n",
    "\n",
    "model.solve(eco)                                        # solve the model by Gruobi"
   ]
  },
  {
   "cell_type": "markdown",
   "id": "e3a70f72",
   "metadata": {},
   "source": [
    "The code cells below provide the optimal objective value and solution."
   ]
  },
  {
   "cell_type": "code",
   "execution_count": 13,
   "id": "97d30884",
   "metadata": {
    "scrolled": true
   },
   "outputs": [
    {
     "data": {
      "text/plain": [
       "-130.15908159148634"
      ]
     },
     "execution_count": 13,
     "metadata": {},
     "output_type": "execute_result"
    }
   ],
   "source": [
    "model.get()"
   ]
  },
  {
   "cell_type": "code",
   "execution_count": 14,
   "id": "9575a7c2",
   "metadata": {
    "scrolled": true
   },
   "outputs": [
    {
     "data": {
      "text/plain": [
       "array([[ 0.6697 ,  3.00859,  0.     ,  4.34011,  0.     , 70.92135,\n",
       "         3.99641,  5.18537,  5.82321,  3.82512]])"
      ]
     },
     "execution_count": 14,
     "metadata": {},
     "output_type": "execute_result"
    }
   ],
   "source": [
    "x2 = x.get()\n",
    "x2.round(5)"
   ]
  },
  {
   "cell_type": "markdown",
   "id": "4ce6f9e8",
   "metadata": {},
   "source": [
    "Because of the Euclidean norm uncertainty set considered for each scenario, the deterministic counterpart is a second-order cone program presented as follows."
   ]
  },
  {
   "cell_type": "code",
   "execution_count": 15,
   "id": "cd583775",
   "metadata": {},
   "outputs": [
    {
     "data": {
      "text/plain": [
       "Second order cone program object:\n",
       "=============================================\n",
       "Number of variables:          44132\n",
       "Continuous/binaries/integers: 44132/0/0\n",
       "---------------------------------------------\n",
       "Number of linear constraints: 17789\n",
       "Inequalities/equalities:      16172/1617\n",
       "Number of coefficients:       92526\n",
       "---------------------------------------------\n",
       "Number of SOC constraints:    1617"
      ]
     },
     "execution_count": 15,
     "metadata": {},
     "output_type": "execute_result"
    }
   ],
   "source": [
    "model.do_math()"
   ]
  },
  {
   "cell_type": "markdown",
   "id": "a823c02a",
   "metadata": {},
   "source": [
    "### The Sample Robust Model Using the `dro` Framework (Section 2.3 of the Online Supplement)\n",
    "\n",
    "The sample robust model introduced in the previous section can also be cast as a distributionally robust optimization problem:\n",
    "\n",
    "$$\n",
    "\\begin{align}\n",
    "\\min_{\\boldsymbol{x}, \\boldsymbol{y}}~&\\sum_{i\\in[I]}\\sum_{j\\in[J]}(c_{ij}-r_j)x_{ij}+\\sup_{\\mathbb{P}\\in\\mathcal{F}}\\mathbb{E}_{\\mathbb{P}}\\left[\\sum_{j\\in[J]}r_jy_j\\left(\\tilde{s}, \\tilde{\\boldsymbol{d}}\\right)\\right] &&\\\\\n",
    "\\text{s.t.}~&y_{j}(s, \\boldsymbol{d}) \\geq \\sum_{i\\in[I]}x_{ij}-d_j && \\forall \\boldsymbol{d}\\in\\mathcal{Z}_s,  s\\in[S], j\\in[J] \\\\\n",
    "&y_{j}(s, \\boldsymbol{d}) \\geq 0 && \\forall \\boldsymbol{d}\\in\\mathcal{Z}_s, s\\in[S], j\\in[J]\\\\\n",
    "&y_{j} \\in \\overline{\\mathcal{A}}(\\{\\{1\\}, \\{2\\}, ..., \\{S\\}\\}, [J]) &&\\forall j\\in[J]\\\\\n",
    "&\\sum_{j\\in[J]}x_{ij}\\leq q_i && \\forall i \\in [I]\\\\\n",
    "&x_{ij} \\geq 0 && \\forall i \\in [I], j\\in [J],\n",
    "\\end{align}\n",
    "$$\n",
    "\n",
    "where $\\tilde{s}$ is a random scalar that corresponds to a demand sample. The ambiguity set $\\mathcal{F}$ is written as\n",
    "$$\n",
    "\\mathcal{F} = \\left\\{\n",
    "\\mathbb{P}\\in\\mathcal{P}_0(\\mathbb{R}^J\\times [S])\\left|\n",
    "\\begin{array}{ll}\n",
    "\\left(\\tilde{\\boldsymbol{d}}, \\tilde{s}\\right) \\sim \\mathbb{P} & \\\\\n",
    "\\mathbb{P}\\left[\\left.\\tilde{\\boldsymbol{d}}\\in\\mathcal{Z}_s\\right|\\tilde{s}=s \\right]=1& \\forall s\\in[S]\\\\\n",
    "\\mathbb{P}[\\tilde{s}=s]=w_s &\\forall s \\in[S]\n",
    "\\end{array}\n",
    "\\right.\n",
    "\\right\\},\n",
    "$$\n",
    "where for each scenario $s$, the weight is $w_s=1/S$ and the corresponding support set $\\mathcal{Z}_s=\\left\\{\\left. \\boldsymbol{d} \\in [\\underline{\\boldsymbol{d}}, \\overline{\\boldsymbol{d}}]~\\right|~\\|\\boldsymbol{d}-\\hat{\\boldsymbol{d}}_s\\|\\leq \\epsilon\\right\\}$ is an $\\epsilon$-neighborhood around the demand sample $\\hat{\\boldsymbol{d}}_s$. The multiple-policy approximation is equivalent to the event-wise recourse adaptation $\\overline{\\mathcal{A}}(\\{\\{1\\}, \\{2\\}, ..., \\{S\\}\\}, [J])$, suggesting that $y_j$ affinely depends on the demand realization and differs around each historical record of demands. Such a distributionally robust optimization model can be implemented by the code segment below."
   ]
  },
  {
   "cell_type": "code",
   "execution_count": 16,
   "id": "49b51ccc",
   "metadata": {
    "scrolled": true
   },
   "outputs": [
    {
     "name": "stdout",
     "output_type": "stream",
     "text": [
      "Being solved by ECOS...\n",
      "Solution status: Optimal solution found\n",
      "Running time: 1.0422s\n"
     ]
    }
   ],
   "source": [
    "from rsome import dro                               # import the dro module\n",
    "from rsome import norm                              # import the norm function\n",
    "from rsome import E                                 # import the expectation notion\n",
    "from rsome import eco_solver as eco                 # import the Gurobi interface\n",
    "\n",
    "epsilon = 0.25                                      # parameter of robustness\n",
    "w = 1/S                                             # weight of each scenario\n",
    "model = dro.Model(S)                                # a DRO model with S scenarios\n",
    "\n",
    "d = model.rvar(J)                                   # random variable d\n",
    "fset = model.ambiguity()                            # create an ambiguity set\n",
    "for s in range(S):                                  # for each scenario\n",
    "    fset[s].suppset(d <= d_ub, d >= d_lb, \n",
    "                    norm(d - dhat[s]) <= epsilon)   # define the support set\n",
    "pr = model.p                                        # an array of scenario weights\n",
    "fset.probset(pr == w)                               # specify scenario weights\n",
    "\n",
    "x = model.dvar((I, J))                              # here-and-now decision x\n",
    "y = model.dvar(J)                                   # wait-and-see decision y\n",
    "y.adapt(d)                                          # y affinely adapts to d\n",
    "for s in range(S):\n",
    "    y.adapt(s)                                      # y adapts to each scenario s\n",
    "\n",
    "model.minsup(((c-r)*x).sum() + E(r@y), fset)        # the worst-case expectation\n",
    "model.st(y >= x.sum(axis=0) - d, y >= 0)            # robust constraints\n",
    "model.st(x.sum(axis=1) <= q, x >= 0)                # deterministic constraints\n",
    "\n",
    "model.solve(eco)                                    # solve the model by Gruobi"
   ]
  },
  {
   "cell_type": "markdown",
   "id": "995c9de2",
   "metadata": {},
   "source": [
    "The model above gives the same optimal objective and solution as the previous section."
   ]
  },
  {
   "cell_type": "code",
   "execution_count": 17,
   "id": "2c2f455d",
   "metadata": {},
   "outputs": [
    {
     "data": {
      "text/plain": [
       "-130.15908156563754"
      ]
     },
     "execution_count": 17,
     "metadata": {},
     "output_type": "execute_result"
    }
   ],
   "source": [
    "model.get()"
   ]
  },
  {
   "cell_type": "code",
   "execution_count": 18,
   "id": "2bcf909e",
   "metadata": {},
   "outputs": [
    {
     "data": {
      "text/plain": [
       "array([[ 0.6697 ,  3.00859,  0.     ,  4.34011,  0.     , 70.92135,\n",
       "         3.99641,  5.18537,  5.82321,  3.82512]])"
      ]
     },
     "execution_count": 18,
     "metadata": {},
     "output_type": "execute_result"
    }
   ],
   "source": [
    "x.get().round(5)"
   ]
  },
  {
   "cell_type": "markdown",
   "id": "2ca8305d",
   "metadata": {},
   "source": [
    "However, the `dro` framework leads to a different deterministic counterpart shown below."
   ]
  },
  {
   "cell_type": "code",
   "execution_count": 19,
   "id": "d348a03e",
   "metadata": {
    "scrolled": true
   },
   "outputs": [
    {
     "data": {
      "text/plain": [
       "Second order cone program object:\n",
       "=============================================\n",
       "Number of variables:          44288\n",
       "Continuous/binaries/integers: 44288/0/0\n",
       "---------------------------------------------\n",
       "Number of linear constraints: 18713\n",
       "Inequalities/equalities:      17019/1694\n",
       "Number of coefficients:       95203\n",
       "---------------------------------------------\n",
       "Number of SOC constraints:    1617"
      ]
     },
     "execution_count": 19,
     "metadata": {},
     "output_type": "execute_result"
    }
   ],
   "source": [
    "model.do_math()"
   ]
  },
  {
   "cell_type": "markdown",
   "id": "e58c5e10",
   "metadata": {},
   "source": [
    "### The Distributionally Robust Model Considering Side Information (Section 4 of the RSOME in Python Paper)\n",
    "\n",
    "In this section, we use RSOME to implement the distributionally robust model below proposed by [Hao et al. 2020](https://papers.ssrn.com/sol3/papers.cfm?abstract_id=3509026):\n",
    "\n",
    "$$\n",
    "\\begin{align}\n",
    "\\min_{\\boldsymbol{x}, \\boldsymbol{y}}~&\\sum_{i\\in[I]}\\sum_{j\\in[J]}(c_{ij}-r_j)x_{ij}+\\sup_{\\mathbb{P}\\in\\mathcal{F}}\\mathbb{E}_{\\mathbb{P}}\\left[\\sum_{j\\in[J]}r_jy_j\\left(\\tilde{s}, \\tilde{\\boldsymbol{d}}, \\tilde{\\boldsymbol{u}}\\right)\\right] &&\\\\\n",
    "\\text{s.t.}~&y_{j}(s, \\boldsymbol{d}, \\boldsymbol{u}) \\geq \\sum_{i\\in[I]}x_{ij}-d_j && \\forall (\\boldsymbol{d}, \\boldsymbol{u})\\in\\mathcal{Z}_s, s\\in[S], j\\in[J]\\\\\n",
    "&y_{j}(s, \\boldsymbol{d}, \\boldsymbol{u}) \\geq 0 && \\forall (\\boldsymbol{d}, \\boldsymbol{u})\\in\\mathcal{Z}_s, s\\in[S], j\\in[J]\\\\\n",
    "&y_{j} \\in \\overline{\\mathcal{A}}(\\{\\{1\\}, \\{2\\}, ..., \\{S\\}\\}, [2J]) &&\\forall j\\in[J]\\\\\n",
    "&\\sum_{j\\in[J]}x_{ij}\\leq q_i && \\forall i \\in [I]\\\\\n",
    "&x_{ij} \\geq 0 && \\forall i \\in [I], j\\in [J],\n",
    "\\end{align}\n",
    "$$\n",
    "\n",
    "where the ambiguity set $\\mathcal{F}$ is written as\n",
    "$$\n",
    "\\mathcal{F} = \\left\\{\n",
    "\\mathbb{P}\\in\\mathcal{P}_0(\\mathbb{R}^J\\times\\mathbb{R}^J\\times[S])~\\left|~\n",
    "\\begin{array}{ll}\n",
    "\\left(\\tilde{\\boldsymbol{d}}, \\tilde{\\boldsymbol{u}}, \\tilde{s}\\right) \\sim \\mathbb{P} & \\\\\n",
    "\\mathbb{E}_{\\mathbb{P}}[\\tilde{\\boldsymbol{d}}|\\tilde{s}=s] = \\boldsymbol{\\mu}_s & \\forall s\\in[S] \\\\\n",
    "\\mathbb{E}_{\\mathbb{P}}[\\tilde{\\boldsymbol{u}}|\\tilde{s}=s] = \\boldsymbol{\\phi}_s & \\forall s\\in[S] \\\\\n",
    "\\mathbb{P}\\left[\\left.(\\tilde{\\boldsymbol{d}}, \\tilde{\\boldsymbol{u}})\\in\\mathcal{Z}_s\\right|\\tilde{s}=s \\right]=1& \\forall s\\in[S]\\\\\n",
    "\\mathbb{P}[\\tilde{s}=s]=w_s &\\forall s \\in[S]\n",
    "\\end{array}\n",
    "\\right.\n",
    "\\right\\},\n",
    "$$\n",
    "\n",
    "which involves a number of $S$ scenarios, and the weights of scenarios are denoted by the vector $\\boldsymbol{w}\\in\\mathbb{R}^S$. For each scenario $s\\in[S]$, the conditional distribution of $\\tilde{\\boldsymbol{d}}$ is characterized by the conditional mean $\\boldsymbol{\\mu}_s$ and variance $\\boldsymbol{\\phi}_s$, as well as the lifted support set \n",
    "\n",
    "$$\n",
    "\\mathcal{Z}_s = \\left\\{(\\boldsymbol{d}, \\boldsymbol{u}) \\in \\mathbb{R}^J\\times\\mathbb{R}^J ~\\left|~\n",
    "\\begin{array}{ll}\n",
    "\\boldsymbol{d}\\in[\\underline{\\boldsymbol{d}}, \\overline{\\boldsymbol{d}}] &\\\\\n",
    "(d_j - \\mu_j)^2 \\leq u_j &\\forall j \\in [J]\n",
    "\\end{array}\n",
    "\\right.\n",
    "\\right\\}.\n",
    "$$\n",
    "\n",
    "In this document, the scenarios are generated from the historical data of the regional taxi demands (with\n",
    "noise added for data desensitization) and side information in terms of the rainfall records using decision tree regressor. The code for generating scenarios and calculating parameters is provided as follows."
   ]
  },
  {
   "cell_type": "code",
   "execution_count": 20,
   "id": "c1488070",
   "metadata": {},
   "outputs": [],
   "source": [
    "from sklearn.tree import DecisionTreeRegressor\n",
    "\n",
    "regr = DecisionTreeRegressor(max_leaf_nodes=4,          # max leaf nodes\n",
    "                             min_samples_leaf=3)        # min sample size of each leaf\n",
    "regr.fit(precip, demand)\n",
    "mu, index, counts = np.unique(regr.predict(precip), \n",
    "                              axis=0,\n",
    "                              return_inverse=True,\n",
    "                              return_counts=True)       # conditional mean\n",
    "w = counts/precip.shape[0]                              # scenario weights         \n",
    "phi = np.array([demand.values[index==i].var(axis=0)\n",
    "                for i in range(len(counts))])           # conditional variance\n",
    "d_ub = np.array([demand.values[index==i].max(axis=0)\n",
    "                for i in range(len(counts))])           # upper bound of each scenario\n",
    "d_lb = np.array([demand.values[index==i].min(axis=0)\n",
    "                for i in range(len(counts))])           # lower bound of each scenario"
   ]
  },
  {
   "cell_type": "markdown",
   "id": "d5fc4c8f",
   "metadata": {},
   "source": [
    "The tree structure is visualized by the code cell below."
   ]
  },
  {
   "cell_type": "code",
   "execution_count": 21,
   "id": "b4b5179b",
   "metadata": {
    "scrolled": false
   },
   "outputs": [
    {
     "data": {
      "image/png": "[encoded data removed]",
      "text/plain": [
       "<Figure size 1440x720 with 1 Axes>"
      ]
     },
     "metadata": {
      "needs_background": "light"
     },
     "output_type": "display_data"
    }
   ],
   "source": [
    "from sklearn.tree import plot_tree\n",
    "\n",
    "plt.figure(figsize=(20, 10))\n",
    "plot_tree(regr, rounded=True, feature_names=demand.columns, fontsize=13)\n",
    "plt.show()"
   ]
  },
  {
   "cell_type": "markdown",
   "id": "3dab81e5",
   "metadata": {},
   "source": [
    "The distribution of regional demand in each scenario is visualized by the following code segment."
   ]
  },
  {
   "cell_type": "code",
   "execution_count": 22,
   "id": "b36ebc35",
   "metadata": {
    "scrolled": false
   },
   "outputs": [
    {
     "data": {
      "image/png": "[encoded data removed]",
      "text/plain": [
       "<Figure size 720x288 with 4 Axes>"
      ]
     },
     "metadata": {
      "needs_background": "light"
     },
     "output_type": "display_data"
    }
   ],
   "source": [
    "fig = plt.figure(figsize=(10, 4))\n",
    "gs = fig.add_gridspec(1, 4, hspace=0, wspace=0)\n",
    "axes = gs.subplots(sharey='row')\n",
    "for i in range(4):\n",
    "    each_demand = demand.values[index==i]\n",
    "    axes[i].boxplot(each_demand, \n",
    "                    vert=False, flierprops={'markersize': 4})\n",
    "    axes[i].set_yticks(list(range(1, 11)), \n",
    "                       ['Region{0}'.format(i) for i in range(1, 11)], \n",
    "                       fontsize=11)\n",
    "    axes[i].set_xlabel('Demand', fontsize=12)\n",
    "    axes[i].set_title('Sample size: {0}'.format(each_demand.shape[0]), \n",
    "                      fontsize=13)\n",
    "axes[3].set_ylim(10.5, 0.5)\n",
    "plt.show()"
   ]
  },
  {
   "cell_type": "markdown",
   "id": "faa3a335",
   "metadata": {},
   "source": [
    "Based on the ambiguity set $\\mathcal{F}$ defined by scenario-wise means and variances, the distributionally robust model is implemented as follows."
   ]
  },
  {
   "cell_type": "code",
   "execution_count": 23,
   "id": "9765d1db",
   "metadata": {},
   "outputs": [
    {
     "name": "stdout",
     "output_type": "stream",
     "text": [
      "Being solved by ECOS...\n",
      "Solution status: Optimal solution found\n",
      "Running time: 0.1113s\n"
     ]
    }
   ],
   "source": [
    "from rsome import dro                         # import the dro module\n",
    "from rsome import square                      # import the element-wise square function\n",
    "from rsome import E                           # import the notion of expectation\n",
    "from rsome import eco_solver as eco           # import the Gurobi interface\n",
    "\n",
    "S = len(w)                                    # number of scenarios\n",
    "model = dro.Model(S)                          # create a DRO model with S scenarios\n",
    "\n",
    "d = model.rvar(J)                             # random demand as the variable d\n",
    "u = model.rvar(J)                             # auxiliary random variable u\n",
    "fset = model.ambiguity()                      # create an ambiguity set\n",
    "for s in range(S):                            # for each scenario:\n",
    "    fset[s].exptset(E(d) == mu[s],            # specify the expectation set of d and u\n",
    "                    E(u) <= phi[s])\n",
    "    fset[s].suppset(d >= d_lb[s],             # specify the support of d and u\n",
    "                    d <= d_ub[s],\n",
    "                    square(d - mu[s]) <= u)\n",
    "pr = model.p                                  # an array of scenario probabilities\n",
    "fset.probset(pr == w)                         # w as scenario weights\n",
    "\n",
    "x = model.dvar((I, J))                        # here-and-now decision x\n",
    "y = model.dvar(J)                             # wait-and-see decision y\n",
    "y.adapt(d)                                    # y affinely adapts to d\n",
    "y.adapt(u)                                    # y affinely adapts to u\n",
    "for s in range(S):                            # for each scenario:\n",
    "    y.adapt(s)                                # affine adaptation of y is different\n",
    "\n",
    "model.minsup(((c-r)*x).sum() + E(r@y), fset)  # minimize the worst-case objective\n",
    "model.st(y >= x.sum(axis=0) - d, y >= 0)      # robust constraints\n",
    "model.st(x >= 0, x.sum(axis=0) <= q)          # deterministic constraints\n",
    "\n",
    "model.solve(eco)                              # solve the model by Gurobi\n",
    "status = model.solution.status                # return the solution status\n",
    "time = model.solution.time                    # return the solution time\n",
    "objval = model.get()                          # get the optimal objective value\n",
    "x_sol = x.get()                               # get the optimal solution"
   ]
  },
  {
   "cell_type": "markdown",
   "id": "8a85d030",
   "metadata": {},
   "source": [
    "Similar to previous sections, we can retrieve the optimal objective and solution, as well as the information on the deterministic reformulation of the robust model."
   ]
  },
  {
   "cell_type": "code",
   "execution_count": 24,
   "id": "e9de5f74",
   "metadata": {},
   "outputs": [
    {
     "data": {
      "text/plain": [
       "-111.33291087625959"
      ]
     },
     "execution_count": 24,
     "metadata": {},
     "output_type": "execute_result"
    }
   ],
   "source": [
    "model.get()"
   ]
  },
  {
   "cell_type": "code",
   "execution_count": 25,
   "id": "152e9b87",
   "metadata": {},
   "outputs": [
    {
     "data": {
      "text/plain": [
       "array([[ 0.     ,  0.     ,  0.     ,  5.51733,  0.     , 74.41608,\n",
       "         0.     ,  3.70714,  7.03957,  4.79476]])"
      ]
     },
     "execution_count": 25,
     "metadata": {},
     "output_type": "execute_result"
    }
   ],
   "source": [
    "x3 = x.get()\n",
    "x3.round(5)"
   ]
  },
  {
   "cell_type": "code",
   "execution_count": 26,
   "id": "6591412f",
   "metadata": {
    "scrolled": true
   },
   "outputs": [
    {
     "data": {
      "text/plain": [
       "Second order cone program object:\n",
       "=============================================\n",
       "Number of variables:          4889\n",
       "Continuous/binaries/integers: 4889/0/0\n",
       "---------------------------------------------\n",
       "Number of linear constraints: 1930\n",
       "Inequalities/equalities:      502/1428\n",
       "Number of coefficients:       10759\n",
       "---------------------------------------------\n",
       "Number of SOC constraints:    840"
      ]
     },
     "execution_count": 26,
     "metadata": {},
     "output_type": "execute_result"
    }
   ],
   "source": [
    "model.do_math()"
   ]
  },
  {
   "cell_type": "markdown",
   "id": "46b00169",
   "metadata": {},
   "source": [
    "### Summary\n",
    "\n",
    "#### Visualization of allocation decisions"
   ]
  },
  {
   "cell_type": "code",
   "execution_count": 27,
   "id": "502c7ef5",
   "metadata": {
    "scrolled": true
   },
   "outputs": [
    {
     "data": {
      "image/png": "[encoded data removed]",
      "text/plain": [
       "<Figure size 720x360 with 1 Axes>"
      ]
     },
     "metadata": {
      "needs_background": "light"
     },
     "output_type": "display_data"
    }
   ],
   "source": [
    "width=0.25\n",
    "labels = demand.columns\n",
    "\n",
    "plt.figure(figsize=(10, 5))\n",
    "plt.bar(np.arange(0, len(labels)) - 1*width, x1.flatten(), \n",
    "        width=width, color='r', alpha=0.7, \n",
    "        label='RO model')\n",
    "plt.bar(np.arange(0, len(labels)), x2.flatten(), \n",
    "        width=width, color='b', alpha=0.7, \n",
    "        label='Robust sample optimization')\n",
    "plt.bar(np.arange(0, len(labels)) + 1*width, x3.flatten(), \n",
    "        width=width, color='g', alpha=0.7,\n",
    "        label='DRO with side information')\n",
    "plt.legend(fontsize=13)\n",
    "plt.xticks(np.arange(0, len(labels)), labels, fontsize=11)\n",
    "plt.ylabel('Allocated quantities', fontsize=13)\n",
    "plt.show()"
   ]
  },
  {
   "cell_type": "markdown",
   "id": "5b7f17bc",
   "metadata": {},
   "source": [
    "#### Information on the deterministic reformulations\n",
    "\n",
    "<table>\n",
    "    <tr style=\"border-top:2px #555 solid;border-bottom: 1.5px #555 dashed\" >\n",
    "        <td style=\"text-align:center;padding:10px\"><b>Model</b></td>\n",
    "        <td style=\"text-align:center;padding:10px\">RO with support info.</td>\n",
    "        <td style=\"text-align:center;padding:10px\">RO with sample info. <br> (the <code>ro</code> framework)</td>\n",
    "        <td style=\"text-align:center;padding:10px\">RO with sample info. <br> (the <code>dro</code> framework)</td>\n",
    "        <td style=\"text-align:center;padding:10px\">DRO with side info.</td>\n",
    "    </tr>\n",
    "    <tr>\n",
    "        <td style=\"text-align:center;padding:10px\"><b>Number of variables</b></td>\n",
    "        <td style=\"text-align:center;padding:10px\">373</td>\n",
    "        <td style=\"text-align:center;padding:10px\">44132</td>\n",
    "        <td style=\"text-align:center;padding:10px\">44288</td>\n",
    "        <td style=\"text-align:center;padding:10px\">4889 </td>\n",
    "    </tr>\n",
    "    <tr style=\"border-top: 1.5px #555 dashed\">\n",
    "        <td style=\"text-align:center;padding:10px\"><b>Number of linear constraints</b></td>\n",
    "        <td style=\"text-align:center;padding:10px\">232</td>\n",
    "        <td style=\"text-align:center;padding:10px\">17789</td>\n",
    "        <td style=\"text-align:center;padding:10px\">18713</td>\n",
    "        <td style=\"text-align:center;padding:10px\">1930</td>\n",
    "    </tr>\n",
    "    <tr>\n",
    "        <td style=\"text-align:center;padding:10px\"><b>Number of inequalities/equalities</b></td>\n",
    "        <td style=\"text-align:center;padding:10px\">211/21</td>\n",
    "        <td style=\"text-align:center;padding:10px\">16172/1617</td>\n",
    "        <td style=\"text-align:center;padding:10px\">17019/1694</td>\n",
    "        <td style=\"text-align:center;padding:10px\">502/1428</td>\n",
    "    </tr>\n",
    "    <tr>\n",
    "        <td style=\"text-align:center;padding:10px\"><b>Number of coefficients</b></td>\n",
    "        <td style=\"text-align:center;padding:10px\">823</td>\n",
    "        <td style=\"text-align:center;padding:10px\">92526</td>\n",
    "        <td style=\"text-align:center;padding:10px\">95203</td>\n",
    "        <td style=\"text-align:center;padding:10px\">10759</td>\n",
    "    </tr>\n",
    "    <tr style=\"border-top: 1.5px #555 dashed;border-bottom:2px #555 solid\">\n",
    "        <td style=\"text-align:center;padding:10px\"><b>Number of SOC constraints</b></td>\n",
    "        <td style=\"text-align:center;padding:10px\">0</td>\n",
    "        <td style=\"text-align:center;padding:10px\">1617</td>\n",
    "        <td style=\"text-align:center;padding:10px\">1617</td>\n",
    "        <td style=\"text-align:center;padding:10px\">840</td>\n",
    "    </tr>\n",
    "</table>\n"
   ]
  }
 ],
 "metadata": {
  "kernelspec": {
   "display_name": "Python 3 (ipykernel)",
   "language": "python",
   "name": "python3"
  },
  "language_info": {
   "codemirror_mode": {
    "name": "ipython",
    "version": 3
   },
   "file_extension": ".py",
   "mimetype": "text/x-python",
   "name": "python",
   "nbconvert_exporter": "python",
   "pygments_lexer": "ipython3",
   "version": "3.9.12"
  },
  "varInspector": {
   "cols": {
    "lenName": 16,
    "lenType": 16,
    "lenVar": 40
   },
   "kernels_config": {
    "python": {
     "delete_cmd_postfix": "",
     "delete_cmd_prefix": "del ",
     "library": "var_list.py",
     "varRefreshCmd": "print(var_dic_list())"
    },
    "r": {
     "delete_cmd_postfix": ") ",
     "delete_cmd_prefix": "rm(",
     "library": "var_list.r",
     "varRefreshCmd": "cat(var_dic_list()) "
    }
   },
   "types_to_exclude": [
    "module",
    "function",
    "builtin_function_or_method",
    "instance",
    "_Feature"
   ],
   "window_display": false
  }
 },
 "nbformat": 4,
 "nbformat_minor": 5
}
